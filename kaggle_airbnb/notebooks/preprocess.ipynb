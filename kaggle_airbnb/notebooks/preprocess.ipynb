{
 "cells": [
  {
   "cell_type": "code",
   "execution_count": 1,
   "metadata": {},
   "outputs": [],
   "source": [
    "import numpy as np\n",
    "import pandas as pd\n",
    "from sklearn.impute import KNNImputer\n",
    "from kaggle_airbnb.preprocess import preprocess_feature"
   ]
  },
  {
   "cell_type": "code",
   "execution_count": 2,
   "metadata": {},
   "outputs": [],
   "source": [
    "df_train = pd.read_csv(\"../data/train.csv\")\n",
    "df_test = pd.read_csv(\"../data/test.csv\")"
   ]
  },
  {
   "cell_type": "code",
   "execution_count": 3,
   "metadata": {},
   "outputs": [],
   "source": [
    "all_x_df = pd.concat([df_train.drop(columns=[\"id\", \"Decision\"]), df_test.drop(columns=[\"id\"])])"
   ]
  },
  {
   "cell_type": "code",
   "execution_count": 4,
   "metadata": {},
   "outputs": [],
   "source": [
    "all_x = preprocess_feature(all_x_df, [])\n",
    "\n",
    "x_train = all_x[:len(df_train)]\n",
    "x_test = all_x[len(df_train):]\n",
    "\n",
    "df_train.iloc[:, 2:] = x_train\n",
    "df_test.iloc[:, 1:] = x_test"
   ]
  },
  {
   "cell_type": "code",
   "execution_count": 5,
   "metadata": {},
   "outputs": [],
   "source": [
    "# train_na_indx = df_train.drop(columns=[\"id\", \"Decision\"]).isna().to_numpy()\n",
    "# test_na_indx = df_test.drop(columns=[\"id\"]).isna().to_numpy()\n",
    "# x_train[train_na_indx] = np.nan\n",
    "# x_test[test_na_indx] = np.nan"
   ]
  },
  {
   "cell_type": "code",
   "execution_count": 6,
   "metadata": {},
   "outputs": [],
   "source": [
    "# X = np.concatenate([x_train, x_test])"
   ]
  },
  {
   "cell_type": "code",
   "execution_count": 7,
   "metadata": {},
   "outputs": [],
   "source": [
    "# imputer = KNNImputer(n_neighbors=1, weights=\"uniform\")\n",
    "# X = imputer.fit_transform(X)"
   ]
  },
  {
   "cell_type": "code",
   "execution_count": 8,
   "metadata": {},
   "outputs": [],
   "source": [
    "# df_train.iloc[:, 2:] = X[:len(x_train)]\n",
    "# df_test.iloc[:, 1:] = X[len(x_train):]"
   ]
  },
  {
   "cell_type": "code",
   "execution_count": 9,
   "metadata": {},
   "outputs": [],
   "source": [
    "df_train.to_csv(\"../data/processed_train.csv\")\n",
    "df_test.to_csv(\"../data/processed_test.csv\")"
   ]
  }
 ],
 "metadata": {
  "interpreter": {
   "hash": "d94310563e12f338966ce8f8fe0c12489690634fb1c023543451dbedbcbaf68a"
  },
  "kernelspec": {
   "display_name": "Python 3.9.7 64-bit ('general': conda)",
   "language": "python",
   "name": "python3"
  },
  "language_info": {
   "codemirror_mode": {
    "name": "ipython",
    "version": 3
   },
   "file_extension": ".py",
   "mimetype": "text/x-python",
   "name": "python",
   "nbconvert_exporter": "python",
   "pygments_lexer": "ipython3",
   "version": "3.9.7"
  },
  "orig_nbformat": 4
 },
 "nbformat": 4,
 "nbformat_minor": 2
}
