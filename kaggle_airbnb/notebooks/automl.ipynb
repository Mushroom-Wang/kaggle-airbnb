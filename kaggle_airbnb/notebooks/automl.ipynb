{
 "cells": [
  {
   "cell_type": "code",
   "execution_count": 1,
   "metadata": {},
   "outputs": [],
   "source": [
    "from kaggle_airbnb.preprocess import preprocess_feature\n",
    "import pandas as pd\n",
    "import evalml\n"
   ]
  },
  {
   "cell_type": "code",
   "execution_count": 2,
   "metadata": {},
   "outputs": [],
   "source": [
    "df = pd.read_csv(\"../data/train.csv\")\n",
    "X = preprocess_feature(df)\n",
    "y = df[\"Decision\"].to_numpy()\n",
    "\n",
    "X_train, X_test, y_train, y_test = evalml.preprocessing.split_data(X, y, problem_type='binary')"
   ]
  },
  {
   "cell_type": "code",
   "execution_count": 3,
   "metadata": {},
   "outputs": [
    {
     "name": "stderr",
     "output_type": "stream",
     "text": [
      "\tHigh coefficient of variation (cv >= 0.5) within cross validation scores.\n",
      "\tDecision Tree Classifier w/ Label Encoder + Imputer may not perform as estimated on unseen data.\n"
     ]
    }
   ],
   "source": [
    "from evalml.automl import AutoMLSearch\n",
    "automl = AutoMLSearch(X_train=X_train, y_train=y_train, max_time=100, problem_type='binary')\n",
    "automl.search()"
   ]
  },
  {
   "cell_type": "code",
   "execution_count": 4,
   "metadata": {},
   "outputs": [
    {
     "data": {
      "text/plain": [
       "0.7444816053511706"
      ]
     },
     "execution_count": 4,
     "metadata": {},
     "output_type": "execute_result"
    }
   ],
   "source": [
    "pipeline = automl.best_pipeline\n",
    "sum(pipeline.predict(X_test) == y_test) / len(y_test)"
   ]
  }
 ],
 "metadata": {
  "interpreter": {
   "hash": "d94310563e12f338966ce8f8fe0c12489690634fb1c023543451dbedbcbaf68a"
  },
  "kernelspec": {
   "display_name": "Python 3.9.7 64-bit ('general': conda)",
   "language": "python",
   "name": "python3"
  },
  "language_info": {
   "codemirror_mode": {
    "name": "ipython",
    "version": 3
   },
   "file_extension": ".py",
   "mimetype": "text/x-python",
   "name": "python",
   "nbconvert_exporter": "python",
   "pygments_lexer": "ipython3",
   "version": "3.9.7"
  },
  "orig_nbformat": 4
 },
 "nbformat": 4,
 "nbformat_minor": 2
}
