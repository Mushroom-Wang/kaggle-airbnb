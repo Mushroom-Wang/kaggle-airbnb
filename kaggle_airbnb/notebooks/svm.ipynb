{
 "cells": [
  {
   "cell_type": "code",
   "execution_count": 1,
   "metadata": {},
   "outputs": [],
   "source": [
    "from sklearn.svm import SVC\n",
    "from kaggle_airbnb.preprocess import preprocess_feature\n",
    "import pandas as pd\n",
    "from sklearn.linear_model import LinearRegression\n",
    "\n",
    "from sklearn.model_selection import train_test_split"
   ]
  },
  {
   "cell_type": "code",
   "execution_count": 2,
   "metadata": {},
   "outputs": [],
   "source": [
    "df = pd.read_csv(\"../data/train.csv\")\n",
    "x = preprocess_feature(df)\n",
    "y = df[\"Decision\"].to_numpy()\n",
    "\n",
    "x_train, x_test, y_train, y_test = train_test_split(x, y, test_size=0.1)"
   ]
  },
  {
   "cell_type": "code",
   "execution_count": 3,
   "metadata": {},
   "outputs": [
    {
     "data": {
      "text/plain": [
       "0.75"
      ]
     },
     "execution_count": 3,
     "metadata": {},
     "output_type": "execute_result"
    }
   ],
   "source": [
    "clf = SVC(gamma=0.1)\n",
    "clf.fit(x_train, y_train)\n",
    "sum(clf.predict(x_test) == y_test) / len(y_test)"
   ]
  },
  {
   "cell_type": "code",
   "execution_count": 4,
   "metadata": {},
   "outputs": [
    {
     "data": {
      "text/plain": [
       "LinearRegression()"
      ]
     },
     "execution_count": 4,
     "metadata": {},
     "output_type": "execute_result"
    }
   ],
   "source": [
    "lr = LinearRegression()\n",
    "lr.fit(x_train, y_train)"
   ]
  },
  {
   "cell_type": "code",
   "execution_count": 5,
   "metadata": {},
   "outputs": [],
   "source": [
    "importance_index = abs(lr.coef_).argsort()[::-1]"
   ]
  },
  {
   "cell_type": "code",
   "execution_count": 6,
   "metadata": {},
   "outputs": [
    {
     "data": {
      "text/plain": [
       "Index(['Accommodates', 'Host_response_time', 'Instant_bookable', 'Bedrooms',\n",
       "       'Price', 'Room_type', 'Number_of_reviews', 'Beds', 'Essentials',\n",
       "       'Host_has_profile_pic', 'Host_identity_verified', 'Parking',\n",
       "       'Property_type', 'Bathrooms_text', 'Neighbourhood',\n",
       "       'Review_scores_rating', 'Month', 'Balcony', 'Cooking',\n",
       "       'Host_is_superhost'],\n",
       "      dtype='object')"
      ]
     },
     "execution_count": 6,
     "metadata": {},
     "output_type": "execute_result"
    }
   ],
   "source": [
    "df.columns[2:][importance_index]"
   ]
  }
 ],
 "metadata": {
  "interpreter": {
   "hash": "d94310563e12f338966ce8f8fe0c12489690634fb1c023543451dbedbcbaf68a"
  },
  "kernelspec": {
   "display_name": "Python 3.9.7 64-bit ('general': conda)",
   "language": "python",
   "name": "python3"
  },
  "language_info": {
   "codemirror_mode": {
    "name": "ipython",
    "version": 3
   },
   "file_extension": ".py",
   "mimetype": "text/x-python",
   "name": "python",
   "nbconvert_exporter": "python",
   "pygments_lexer": "ipython3",
   "version": "3.9.7"
  },
  "orig_nbformat": 4
 },
 "nbformat": 4,
 "nbformat_minor": 2
}
