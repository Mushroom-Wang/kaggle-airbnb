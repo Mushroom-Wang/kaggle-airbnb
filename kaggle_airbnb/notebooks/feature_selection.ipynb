{
 "cells": [
  {
   "cell_type": "code",
   "execution_count": 1,
   "metadata": {},
   "outputs": [],
   "source": [
    "# Recursive Feature Elimination (RFE) for Feature Selection\n",
    "\n",
    "import pandas as pd\n",
    "from kaggle_airbnb.preprocess import process_non, process_non_numeric_data\n",
    "\n",
    "# explore the number of selected features for RFE\n",
    "from numpy import mean\n",
    "from numpy import std\n",
    "from sklearn.datasets import make_classification\n",
    "from sklearn.model_selection import cross_val_score\n",
    "from sklearn.model_selection import RepeatedStratifiedKFold\n",
    "from sklearn.feature_selection import RFE\n",
    "from sklearn.feature_selection import RFECV\n",
    "from sklearn.tree import DecisionTreeClassifier\n",
    "from sklearn.pipeline import Pipeline\n",
    "from matplotlib import pyplot\n",
    "from matplotlib.pyplot import figure\n",
    "from sklearn.ensemble import RandomForestClassifier\n",
    "\n",
    "\n"
   ]
  },
  {
   "cell_type": "code",
   "execution_count": 2,
   "metadata": {},
   "outputs": [],
   "source": [
    "%matplotlib inline"
   ]
  },
  {
   "cell_type": "code",
   "execution_count": 3,
   "metadata": {},
   "outputs": [],
   "source": [
    "df = pd.read_csv(\"../data/train.csv\")\n",
    "data_df = df.drop(columns=[\"id\"])\n",
    "feature_df = df.drop(columns=[\"id\", \"Decision\"])"
   ]
  },
  {
   "cell_type": "code",
   "execution_count": 4,
   "metadata": {},
   "outputs": [],
   "source": [
    "data_df = process_non(data_df)\n",
    "data_df = process_non_numeric_data(data_df)\n",
    "transformed_feature_df = data_df.drop(columns=[\"Decision\"])"
   ]
  },
  {
   "cell_type": "code",
   "execution_count": 5,
   "metadata": {},
   "outputs": [
    {
     "name": "stdout",
     "output_type": "stream",
     "text": [
      ">2 0.716 (0.019)\n",
      ">3 0.759 (0.016)\n",
      ">4 0.778 (0.015)\n",
      ">5 0.799 (0.012)\n",
      ">6 0.804 (0.017)\n",
      ">7 0.800 (0.015)\n",
      ">8 0.805 (0.012)\n",
      ">9 0.795 (0.017)\n",
      ">10 0.794 (0.015)\n",
      ">11 0.800 (0.014)\n",
      ">12 0.805 (0.014)\n",
      ">13 0.807 (0.013)\n",
      ">14 0.810 (0.015)\n",
      ">15 0.807 (0.014)\n",
      ">16 0.810 (0.014)\n",
      ">17 0.811 (0.014)\n",
      ">18 0.809 (0.014)\n",
      ">19 0.812 (0.014)\n"
     ]
    }
   ],
   "source": [
    "\n",
    "# get a list of models to evaluate\n",
    "def get_models():\n",
    "\tmodels = dict()\n",
    "\tfor i in range(2, 20):\n",
    "\t\trfe = RFE(estimator=RandomForestClassifier(), n_features_to_select=i)\n",
    "\t\tmodel = RandomForestClassifier()\n",
    "\t\tmodels[str(i)] = Pipeline(steps=[('s',rfe),('m',model)])\n",
    "\treturn models\n",
    "\n",
    "# evaluate a give model using cross-validation\n",
    "def evaluate_model(model, X, y):\n",
    "\tcv = RepeatedStratifiedKFold(n_splits=10, n_repeats=3, random_state=1)\n",
    "\tscores = cross_val_score(model, X, y, scoring='accuracy', cv=cv, n_jobs=-1, error_score='raise')\n",
    "\treturn scores\n",
    "\n",
    "# define dataset\n",
    "X = transformed_feature_df\n",
    "y = data_df[\"Decision\"]\n",
    "\n",
    "# get the models to evaluate\n",
    "models = get_models()\n",
    "\n",
    "# evaluate the models and store results\n",
    "results, names = list(), list()\n",
    "for name, model in models.items():\n",
    "\tscores = evaluate_model(model, X, y)\n",
    "\tresults.append(scores)\n",
    "\tnames.append(name)\n",
    "\tprint('>%s %.3f (%.3f)' % (name, mean(scores), std(scores)))\n"
   ]
  },
  {
   "cell_type": "code",
   "execution_count": 6,
   "metadata": {},
   "outputs": [
    {
     "data": {
      "image/png": "[encoded data removed]",
      "text/plain": [
       "<Figure size 864x576 with 1 Axes>"
      ]
     },
     "metadata": {
      "needs_background": "light"
     },
     "output_type": "display_data"
    }
   ],
   "source": [
    "# plot model performance for comparison\n",
    "figure(figsize = (12, 8))\n",
    "pyplot.boxplot(results, labels=names, showmeans=True)\n",
    "pyplot.show()"
   ]
  },
  {
   "cell_type": "code",
   "execution_count": 7,
   "metadata": {},
   "outputs": [
    {
     "name": "stdout",
     "output_type": "stream",
     "text": [
      "Column: 0, Selected True, Rank: 1.000\n",
      "Column: 1, Selected False, Rank: 11.000\n",
      "Column: 2, Selected False, Rank: 14.000\n",
      "Column: 3, Selected False, Rank: 8.000\n",
      "Column: 4, Selected True, Rank: 1.000\n",
      "Column: 5, Selected True, Rank: 1.000\n",
      "Column: 6, Selected False, Rank: 12.000\n",
      "Column: 7, Selected True, Rank: 1.000\n",
      "Column: 8, Selected False, Rank: 5.000\n",
      "Column: 9, Selected False, Rank: 6.000\n",
      "Column: 10, Selected False, Rank: 4.000\n",
      "Column: 11, Selected False, Rank: 10.000\n",
      "Column: 12, Selected False, Rank: 2.000\n",
      "Column: 13, Selected False, Rank: 9.000\n",
      "Column: 14, Selected False, Rank: 13.000\n",
      "Column: 15, Selected True, Rank: 1.000\n",
      "Column: 16, Selected True, Rank: 1.000\n",
      "Column: 17, Selected True, Rank: 1.000\n",
      "Column: 18, Selected False, Rank: 7.000\n",
      "Column: 19, Selected False, Rank: 3.000\n"
     ]
    }
   ],
   "source": [
    "# define dataset\n",
    "X = transformed_feature_df\n",
    "y = data_df[\"Decision\"]\n",
    "\n",
    "# define RFE\n",
    "rfe = RFE(estimator=RandomForestClassifier(), n_features_to_select=7)\n",
    "\n",
    "# fit RFE\n",
    "rfe.fit(X, y)\n",
    "\n",
    "# summarize all features\n",
    "for i in range(X.shape[1]):\n",
    "\tprint('Column: %d, Selected %s, Rank: %.3f' % (i, rfe.support_[i], rfe.ranking_[i]))"
   ]
  },
  {
   "cell_type": "code",
   "execution_count": null,
   "metadata": {},
   "outputs": [],
   "source": []
  }
 ],
 "metadata": {
  "interpreter": {
   "hash": "d874132691997b3644ae64d61cdbc40ddf5f21fa50b51c9fcef874e16f210f72"
  },
  "kernelspec": {
   "display_name": "Python 3.9.6 64-bit ('general': conda)",
   "language": "python",
   "name": "python3"
  },
  "language_info": {
   "codemirror_mode": {
    "name": "ipython",
    "version": 3
   },
   "file_extension": ".py",
   "mimetype": "text/x-python",
   "name": "python",
   "nbconvert_exporter": "python",
   "pygments_lexer": "ipython3",
   "version": "3.9.6"
  },
  "orig_nbformat": 4
 },
 "nbformat": 4,
 "nbformat_minor": 2
}
